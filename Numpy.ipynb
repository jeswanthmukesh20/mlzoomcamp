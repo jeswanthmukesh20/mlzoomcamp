{
 "cells": [
  {
   "cell_type": "code",
   "execution_count": 2,
   "id": "f9b4f7b2",
   "metadata": {},
   "outputs": [],
   "source": [
    "import numpy as np"
   ]
  },
  {
   "cell_type": "code",
   "execution_count": 15,
   "id": "a49f5f97",
   "metadata": {},
   "outputs": [
    {
     "data": {
      "text/plain": [
       "array([[[3, 3, 3, 1, 6, 8, 1, 8, 8, 3],\n",
       "        [5, 7, 9, 8, 5, 5, 6, 8, 9, 8],\n",
       "        [3, 5, 7, 9, 1, 8, 2, 4, 3, 3],\n",
       "        [4, 1, 9, 2, 9, 7, 3, 1, 9, 3],\n",
       "        [6, 1, 7, 4, 1, 9, 8, 5, 3, 2]],\n",
       "\n",
       "       [[4, 5, 9, 1, 8, 2, 3, 2, 8, 7],\n",
       "        [4, 1, 2, 9, 6, 1, 4, 5, 1, 2],\n",
       "        [6, 5, 7, 1, 1, 4, 7, 4, 4, 6],\n",
       "        [4, 2, 9, 8, 7, 2, 3, 6, 6, 2],\n",
       "        [9, 4, 2, 8, 3, 6, 7, 5, 1, 9]],\n",
       "\n",
       "       [[1, 5, 6, 8, 9, 8, 1, 2, 7, 5],\n",
       "        [7, 5, 3, 8, 3, 5, 8, 1, 4, 5],\n",
       "        [1, 4, 9, 8, 1, 8, 3, 9, 6, 3],\n",
       "        [7, 4, 7, 4, 6, 2, 6, 4, 7, 5],\n",
       "        [9, 2, 7, 6, 6, 3, 8, 4, 1, 5]]])"
      ]
     },
     "execution_count": 15,
     "metadata": {},
     "output_type": "execute_result"
    }
   ],
   "source": [
    "ar = np.random.randint(1, 10, size=(3, 5, 10))\n",
    "ar"
   ]
  },
  {
   "cell_type": "code",
   "execution_count": 36,
   "id": "b7a1a637",
   "metadata": {},
   "outputs": [
    {
     "data": {
      "text/plain": [
       "array([[[8, 5, 9, 8, 7, 7, 4, 2, 8, 4],\n",
       "        [6, 6, 6, 4, 6, 2, 4, 1, 7, 6]],\n",
       "\n",
       "       [[4, 8, 9, 7, 6, 4, 4, 2, 4, 1],\n",
       "        [9, 1, 7, 3, 6, 2, 6, 6, 9, 2]]])"
      ]
     },
     "execution_count": 36,
     "metadata": {},
     "output_type": "execute_result"
    }
   ],
   "source": [
    "ar2 = np.random.randint(1, 10, size=(2, 2, 10))\n",
    "ar2"
   ]
  },
  {
   "cell_type": "code",
   "execution_count": 40,
   "id": "6b215b80",
   "metadata": {},
   "outputs": [
    {
     "ename": "ValueError",
     "evalue": "shapes (3,5,10) and (2,2,10) not aligned: 10 (dim 2) != 2 (dim 1)",
     "output_type": "error",
     "traceback": [
      "\u001b[0;31m---------------------------------------------------------------------------\u001b[0m",
      "\u001b[0;31mValueError\u001b[0m                                Traceback (most recent call last)",
      "Input \u001b[0;32mIn [40]\u001b[0m, in \u001b[0;36m<cell line: 1>\u001b[0;34m()\u001b[0m\n\u001b[0;32m----> 1\u001b[0m \u001b[43mar\u001b[49m\u001b[38;5;241;43m.\u001b[39;49m\u001b[43mdot\u001b[49m\u001b[43m(\u001b[49m\u001b[43mar2\u001b[49m\u001b[43m)\u001b[49m\n",
      "\u001b[0;31mValueError\u001b[0m: shapes (3,5,10) and (2,2,10) not aligned: 10 (dim 2) != 2 (dim 1)"
     ]
    }
   ],
   "source": [
    "ar.dot(ar2)"
   ]
  }
 ],
 "metadata": {
  "kernelspec": {
   "display_name": "Python 3 (ipykernel)",
   "language": "python",
   "name": "python3"
  },
  "language_info": {
   "codemirror_mode": {
    "name": "ipython",
    "version": 3
   },
   "file_extension": ".py",
   "mimetype": "text/x-python",
   "name": "python",
   "nbconvert_exporter": "python",
   "pygments_lexer": "ipython3",
   "version": "3.9.12"
  }
 },
 "nbformat": 4,
 "nbformat_minor": 5
}
